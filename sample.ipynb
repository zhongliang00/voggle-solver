{
 "cells": [
  {
   "cell_type": "code",
   "execution_count": 1,
   "id": "cc6099b7-83e4-4384-a991-269bb06ea5d6",
   "metadata": {},
   "outputs": [],
   "source": [
    "from lib.solve import solve\n",
    "from lib.grid import Grid"
   ]
  },
  {
   "cell_type": "code",
   "execution_count": 17,
   "id": "a3289443-a600-4b06-bc16-d278fcb45cbe",
   "metadata": {},
   "outputs": [],
   "source": [
    "# TEMOEBDISALBTERA\n",
    "# REPYACEASTVKUALO\n",
    "# SATEPHONAOYECOTR\n",
    "# GPNIIUFWZDLOAZYE\n",
    "# PMYLUALFERIEGTXV\n",
    "# DGTEKNAHSOLSRLFI\n",
    "# HTANEREECSUDOFBL\n",
    "# OHCSPQABREURDIGI\n",
    "# OKGEONUCELHRSWLA\n",
    "# FECNCRAGIPMYSEOL\n",
    "# ORGUMEETBANITGSD\n",
    "\n",
    "g = Grid('OKGEONUCELHRSWLA')"
   ]
  },
  {
   "cell_type": "code",
   "execution_count": 18,
   "id": "b71129dc-db6b-43f6-8135-fe98ae504d26",
   "metadata": {},
   "outputs": [
    {
     "data": {
      "text/plain": [
       "[['O', 'O', 'E', 'S'],\n",
       " ['K', 'N', 'L', 'W'],\n",
       " ['G', 'U', 'H', 'L'],\n",
       " ['E', 'C', 'R', 'A']]"
      ]
     },
     "execution_count": 18,
     "metadata": {},
     "output_type": "execute_result"
    }
   ],
   "source": [
    "g"
   ]
  },
  {
   "cell_type": "code",
   "execution_count": 19,
   "id": "fdf734a8-0b18-483b-a806-7b34cda15c63",
   "metadata": {},
   "outputs": [
    {
     "data": {
      "text/plain": [
       "[(['CHALLENGE', 'SWELL', 'HALLOO', 'CRUNK'], 295.0),\n",
       " (['CHALLENGE', 'SWELL', 'HALLOO', 'KNURL'], 295.0)]"
      ]
     },
     "execution_count": 19,
     "metadata": {},
     "output_type": "execute_result"
    }
   ],
   "source": [
    "solve(g)"
   ]
  },
  {
   "cell_type": "code",
   "execution_count": 6,
   "id": "b8f2939a-07ba-4388-a51e-10ba508687ba",
   "metadata": {},
   "outputs": [
    {
     "data": {
      "text/plain": [
       "[[(3, 0), (2, 0), (3, 1), (2, 1), (1, 1), (1, 2), (1, 3), (0, 2)],\n",
       " [(3, 0), (2, 0), (3, 1), (2, 1), (1, 1), (1, 2), (2, 2), (3, 2)]]"
      ]
     },
     "execution_count": 6,
     "metadata": {},
     "output_type": "execute_result"
    }
   ],
   "source": [
    "g.get_paths(\"ETHANOLS\")"
   ]
  },
  {
   "cell_type": "code",
   "execution_count": 7,
   "id": "6899f887-e77d-4978-ae8b-62b3f0463472",
   "metadata": {},
   "outputs": [
    {
     "data": {
      "text/plain": [
       "['CAPRICE',\n",
       " 'EPACRIS',\n",
       " 'GYMPIES',\n",
       " 'ICECAPS',\n",
       " 'MYOPIES',\n",
       " 'POLYGAM',\n",
       " 'PRECISE',\n",
       " 'YAMPIES',\n",
       " 'AERIES',\n",
       " 'CERCIS',\n",
       " 'CERISE',\n",
       " 'CRAMES',\n",
       " 'CRAMES',\n",
       " 'CRAMPS',\n",
       " 'CRAMPS',\n",
       " 'CRAPES',\n",
       " 'CREAMY',\n",
       " 'CREAMY',\n",
       " 'EMPARE',\n",
       " 'EMPIRE',\n",
       " 'FRAMES',\n",
       " 'FRAPES',\n",
       " 'MARIES',\n",
       " 'MYOPIC',\n",
       " 'PIEMAN',\n",
       " 'POMACE',\n",
       " 'PRANCE',\n",
       " 'REAMES',\n",
       " 'RECAPS',\n",
       " 'SEMPRE',\n",
       " 'SEPMAG',\n",
       " 'SPIREA',\n",
       " 'SPRANG',\n",
       " 'CAMEO',\n",
       " 'CAMPI',\n",
       " 'FRANC',\n",
       " 'FRIES',\n",
       " 'GARIS',\n",
       " 'LOMES',\n",
       " 'LOPES',\n",
       " 'LYMES',\n",
       " 'MANGY',\n",
       " 'MESIC',\n",
       " 'NAMES',\n",
       " 'NAPES',\n",
       " 'NARIC',\n",
       " 'NARIS',\n",
       " 'RANGY',\n",
       " 'SPRAY',\n",
       " 'CAGY',\n",
       " 'CANG',\n",
       " 'CRAG',\n",
       " 'CRAG',\n",
       " 'FEAR',\n",
       " 'FERM',\n",
       " 'FRAG',\n",
       " 'FRAY',\n",
       " 'GARE']"
      ]
     },
     "execution_count": 7,
     "metadata": {},
     "output_type": "execute_result"
    }
   ],
   "source": [
    "sorted(list(g.word_lookup.values()), key=lambda _: -len(_))"
   ]
  },
  {
   "cell_type": "markdown",
   "id": "777ae20b-7906-4d64-aee5-a90c97e50c1a",
   "metadata": {},
   "source": [
    "### Performance"
   ]
  },
  {
   "cell_type": "code",
   "execution_count": 20,
   "id": "cbb423d8-7603-4cfd-bc04-08d672bafc46",
   "metadata": {},
   "outputs": [
    {
     "name": "stdout",
     "output_type": "stream",
     "text": [
      "368 ms ± 30 ms per loop (mean ± std. dev. of 7 runs, 1 loop each)\n"
     ]
    }
   ],
   "source": [
    "%%timeit\n",
    "g = Grid('PMYLUALFERIEGTXV')\n",
    "solve(g)"
   ]
  },
  {
   "cell_type": "code",
   "execution_count": null,
   "id": "8f6bb83e-c701-4ab1-ae12-316475f3355e",
   "metadata": {},
   "outputs": [],
   "source": []
  },
  {
   "cell_type": "markdown",
   "id": "82eaee46-69d6-4ef9-a2b9-4bc76adef79a",
   "metadata": {},
   "source": [
    "### Randomly generate a puzzle"
   ]
  },
  {
   "cell_type": "code",
   "execution_count": 21,
   "id": "28d48701-fee5-49f5-bb3d-135d84ab7110",
   "metadata": {},
   "outputs": [],
   "source": [
    "def gen_puzzle():\n",
    "    while True:\n",
    "        try:\n",
    "            g = Grid()\n",
    "        except:\n",
    "            # sometimes fails because random puzzle is unsolvable\n",
    "            continue\n",
    "        break\n",
    "    return g"
   ]
  },
  {
   "cell_type": "code",
   "execution_count": 22,
   "id": "78be1520-0a7c-4b3f-8ab9-f1c3b5a347a1",
   "metadata": {},
   "outputs": [],
   "source": [
    "g = gen_puzzle()"
   ]
  },
  {
   "cell_type": "code",
   "execution_count": 23,
   "id": "f1c64a28-c1c9-413f-a189-a44776f71f61",
   "metadata": {},
   "outputs": [
    {
     "data": {
      "text/plain": [
       "[['S', 'T', 'A', 'L'],\n",
       " ['U', 'E', 'U', 'A'],\n",
       " ['G', 'E', 'O', 'G'],\n",
       " ['H', 'L', 'H', 'R']]"
      ]
     },
     "execution_count": 23,
     "metadata": {},
     "output_type": "execute_result"
    }
   ],
   "source": [
    "g"
   ]
  },
  {
   "cell_type": "code",
   "execution_count": 24,
   "id": "95b771ea-da09-46ea-bd30-77b616f08d31",
   "metadata": {},
   "outputs": [
    {
     "data": {
      "text/plain": [
       "[(['ROUGHLEG', 'HEUGH', 'ALATES'], 366.6666666666667),\n",
       " (['ROUGHLEG', 'LEUGH', 'ALATES'], 366.6666666666667),\n",
       " (['ROUGHLEG', 'ALATES', 'TEUGH'], 366.6666666666667),\n",
       " (['ROUGHLEG', 'STALAG', 'TEUGH'], 363.3333333333333),\n",
       " (['ROUGHLEG', 'ALATES', 'SUGH'], 360.0)]"
      ]
     },
     "execution_count": 24,
     "metadata": {},
     "output_type": "execute_result"
    }
   ],
   "source": [
    "solve(g)"
   ]
  },
  {
   "cell_type": "code",
   "execution_count": null,
   "id": "4b082107-0f43-4c7e-9c5f-ff5c4dca86b3",
   "metadata": {},
   "outputs": [],
   "source": []
  },
  {
   "cell_type": "code",
   "execution_count": 25,
   "id": "87ada2df-a84f-4a35-b19a-82550e1a28cd",
   "metadata": {},
   "outputs": [
    {
     "name": "stdout",
     "output_type": "stream",
     "text": [
      "603 ms ± 242 ms per loop (mean ± std. dev. of 7 runs, 1 loop each)\n"
     ]
    }
   ],
   "source": [
    "%%timeit\n",
    "g = gen_puzzle()\n",
    "solve(g)"
   ]
  },
  {
   "cell_type": "code",
   "execution_count": null,
   "id": "58784b35-234c-43fb-8922-9fa364d812e9",
   "metadata": {},
   "outputs": [],
   "source": []
  },
  {
   "cell_type": "code",
   "execution_count": null,
   "id": "4018fcb5-086c-491f-b225-5de41ec75359",
   "metadata": {},
   "outputs": [],
   "source": []
  },
  {
   "cell_type": "code",
   "execution_count": null,
   "id": "87c6308e-6ae0-42c5-abb5-a9f2498b2d3d",
   "metadata": {},
   "outputs": [],
   "source": []
  }
 ],
 "metadata": {
  "kernelspec": {
   "display_name": "Python 3 (ipykernel)",
   "language": "python",
   "name": "python3"
  },
  "language_info": {
   "codemirror_mode": {
    "name": "ipython",
    "version": 3
   },
   "file_extension": ".py",
   "mimetype": "text/x-python",
   "name": "python",
   "nbconvert_exporter": "python",
   "pygments_lexer": "ipython3",
   "version": "3.11.7"
  }
 },
 "nbformat": 4,
 "nbformat_minor": 5
}
