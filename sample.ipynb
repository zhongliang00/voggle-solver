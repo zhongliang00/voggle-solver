{
 "cells": [
  {
   "cell_type": "code",
   "execution_count": 1,
   "id": "cc6099b7-83e4-4384-a991-269bb06ea5d6",
   "metadata": {},
   "outputs": [],
   "source": [
    "from lib.solve import solve\n",
    "from lib.grid import Grid"
   ]
  },
  {
   "cell_type": "code",
   "execution_count": 19,
   "id": "a3289443-a600-4b06-bc16-d278fcb45cbe",
   "metadata": {},
   "outputs": [],
   "source": [
    "# TEMOEBDISALBTERA\n",
    "# REPYACEASTVKUALO\n",
    "# SATEPHONAOYECOTR\n",
    "# GPNIIUFWZDLOAZYE\n",
    "# PMYLUALFERIEGTXV\n",
    "g = Grid('GPNIIUFWZDLOAZYE')"
   ]
  },
  {
   "cell_type": "code",
   "execution_count": 20,
   "id": "b71129dc-db6b-43f6-8135-fe98ae504d26",
   "metadata": {},
   "outputs": [
    {
     "data": {
      "text/plain": [
       "[['G', 'I', 'Z', 'A'],\n",
       " ['P', 'U', 'D', 'Z'],\n",
       " ['N', 'F', 'L', 'Y'],\n",
       " ['I', 'W', 'O', 'E']]"
      ]
     },
     "execution_count": 20,
     "metadata": {},
     "output_type": "execute_result"
    }
   ],
   "source": [
    "g"
   ]
  },
  {
   "cell_type": "code",
   "execution_count": 21,
   "id": "fdf734a8-0b18-483b-a806-7b34cda15c63",
   "metadata": {},
   "outputs": [
    {
     "data": {
      "text/plain": [
       "[(['INFLOW', 'GUZZLE', 'PIZZA', 'DIZZY'], 227.5),\n",
       " (['DAZZLE', 'INFLOW', 'GULY', 'PIZZLE'], 225.0),\n",
       " (['INFLOW', 'GUZZLE', 'PIZZA', 'DULY'], 222.5),\n",
       " (['INFLOW', 'GUZZLE', 'PIZZA', 'IDLY'], 222.5),\n",
       " (['INFLOW', 'GUZZLE', 'PIZZA', 'OLDY'], 222.5),\n",
       " (['INFLOW', 'GUZZLE', 'PIZZA', 'YELD'], 222.5),\n",
       " (['DAZZLE', 'INFLOW', 'GULY', 'PIZZA'], 220.0),\n",
       " (['DAZZLE', 'INFLOW', 'GIZZ', 'PULY'], 215.0),\n",
       " (['DAZZLE', 'INFLOW', 'GUID', 'PULY'], 215.0),\n",
       " (['DAZZLE', 'INFLOW', 'GULY', 'PFUI'], 215.0),\n",
       " (['DAZZLE', 'INFLOW', 'GULY', 'DIP'], 210.0),\n",
       " (['DAZZLE', 'INFLOW', 'GULY', 'GIP'], 210.0)]"
      ]
     },
     "execution_count": 21,
     "metadata": {},
     "output_type": "execute_result"
    }
   ],
   "source": [
    "solve(g)"
   ]
  },
  {
   "cell_type": "code",
   "execution_count": null,
   "id": "b8f2939a-07ba-4388-a51e-10ba508687ba",
   "metadata": {},
   "outputs": [],
   "source": []
  },
  {
   "cell_type": "markdown",
   "id": "777ae20b-7906-4d64-aee5-a90c97e50c1a",
   "metadata": {},
   "source": [
    "### Performance"
   ]
  },
  {
   "cell_type": "code",
   "execution_count": 32,
   "id": "cbb423d8-7603-4cfd-bc04-08d672bafc46",
   "metadata": {},
   "outputs": [
    {
     "name": "stdout",
     "output_type": "stream",
     "text": [
      "380 ms ± 2.96 ms per loop (mean ± std. dev. of 7 runs, 1 loop each)\n"
     ]
    }
   ],
   "source": [
    "%%timeit\n",
    "g = Grid('PMYLUALFERIEGTXV')\n",
    "solve(g)"
   ]
  },
  {
   "cell_type": "code",
   "execution_count": null,
   "id": "8f6bb83e-c701-4ab1-ae12-316475f3355e",
   "metadata": {},
   "outputs": [],
   "source": []
  },
  {
   "cell_type": "markdown",
   "id": "82eaee46-69d6-4ef9-a2b9-4bc76adef79a",
   "metadata": {},
   "source": [
    "### Randomly generate a puzzle"
   ]
  },
  {
   "cell_type": "code",
   "execution_count": 38,
   "id": "28d48701-fee5-49f5-bb3d-135d84ab7110",
   "metadata": {},
   "outputs": [],
   "source": [
    "def gen_puzzle():\n",
    "    while True:\n",
    "        try:\n",
    "            g = Grid()\n",
    "        except:\n",
    "            # sometimes fails because random puzzle is unsolvable\n",
    "            continue\n",
    "        break\n",
    "    return g"
   ]
  },
  {
   "cell_type": "code",
   "execution_count": 45,
   "id": "78be1520-0a7c-4b3f-8ab9-f1c3b5a347a1",
   "metadata": {},
   "outputs": [],
   "source": [
    "g = gen_puzzle()"
   ]
  },
  {
   "cell_type": "code",
   "execution_count": 46,
   "id": "f1c64a28-c1c9-413f-a189-a44776f71f61",
   "metadata": {},
   "outputs": [
    {
     "data": {
      "text/plain": [
       "[['T', 'A', 'H', 'A'],\n",
       " ['H', 'L', 'E', 'U'],\n",
       " ['A', 'P', 'E', 'E'],\n",
       " ['O', 'E', 'N', 'E']]"
      ]
     },
     "execution_count": 46,
     "metadata": {},
     "output_type": "execute_result"
    }
   ],
   "source": [
    "g"
   ]
  },
  {
   "cell_type": "code",
   "execution_count": 47,
   "id": "95b771ea-da09-46ea-bd30-77b616f08d31",
   "metadata": {},
   "outputs": [
    {
     "data": {
      "text/plain": [
       "[(['OPEN', 'HUE', 'ALTHAEA', 'EPEE'], 205.0),\n",
       " (['OPEN', 'HUE', 'ALTHAEA', 'PENE'], 205.0),\n",
       " (['AUE', 'HEALEE', 'OPEN', 'THAE'], 182.5)]"
      ]
     },
     "execution_count": 47,
     "metadata": {},
     "output_type": "execute_result"
    }
   ],
   "source": [
    "solve(g)"
   ]
  },
  {
   "cell_type": "code",
   "execution_count": null,
   "id": "4b082107-0f43-4c7e-9c5f-ff5c4dca86b3",
   "metadata": {},
   "outputs": [],
   "source": []
  },
  {
   "cell_type": "code",
   "execution_count": 48,
   "id": "87ada2df-a84f-4a35-b19a-82550e1a28cd",
   "metadata": {},
   "outputs": [
    {
     "name": "stdout",
     "output_type": "stream",
     "text": [
      "523 ms ± 267 ms per loop (mean ± std. dev. of 7 runs, 1 loop each)\n"
     ]
    }
   ],
   "source": [
    "%%timeit\n",
    "g = gen_puzzle()\n",
    "solve(g)"
   ]
  },
  {
   "cell_type": "code",
   "execution_count": null,
   "id": "58784b35-234c-43fb-8922-9fa364d812e9",
   "metadata": {},
   "outputs": [],
   "source": []
  },
  {
   "cell_type": "code",
   "execution_count": null,
   "id": "4018fcb5-086c-491f-b225-5de41ec75359",
   "metadata": {},
   "outputs": [],
   "source": []
  },
  {
   "cell_type": "code",
   "execution_count": null,
   "id": "87c6308e-6ae0-42c5-abb5-a9f2498b2d3d",
   "metadata": {},
   "outputs": [],
   "source": []
  }
 ],
 "metadata": {
  "kernelspec": {
   "display_name": "Python 3 (ipykernel)",
   "language": "python",
   "name": "python3"
  },
  "language_info": {
   "codemirror_mode": {
    "name": "ipython",
    "version": 3
   },
   "file_extension": ".py",
   "mimetype": "text/x-python",
   "name": "python",
   "nbconvert_exporter": "python",
   "pygments_lexer": "ipython3",
   "version": "3.11.7"
  }
 },
 "nbformat": 4,
 "nbformat_minor": 5
}
